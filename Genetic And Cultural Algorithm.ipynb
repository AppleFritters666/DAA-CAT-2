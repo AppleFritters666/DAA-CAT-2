{
 "cells": [
  {
   "cell_type": "markdown",
   "id": "370e3085",
   "metadata": {},
   "source": [
    "## Genetic Algorithm and Cultural Algorithm"
   ]
  },
  {
   "cell_type": "code",
   "execution_count": 47,
   "id": "2d36f4fb",
   "metadata": {},
   "outputs": [],
   "source": [
    "import numpy as np\n",
    "import pandas as pd \n",
    "from sklearn.metrics import accuracy_score\n",
    "import warnings\n",
    "import random\n",
    "\n",
    "warnings.filterwarnings(\"ignore\")"
   ]
  },
  {
   "cell_type": "code",
   "execution_count": 48,
   "id": "a824470a",
   "metadata": {
    "scrolled": true
   },
   "outputs": [],
   "source": [
    "data = pd.read_csv(r\"C:\\Users\\Lenovo\\Desktop\\Machine Learning Lab\\Bank_Personal_Loan_Modelling.csv\")\n",
    "data.drop(['ID','ZIP Code'],axis=1,inplace=True)\n",
    "X = data.drop(['Personal Loan'],axis=1)\n",
    "Y = data['Personal Loan']\n",
    "global x \n",
    "x = X.to_numpy()\n",
    "global y \n",
    "y = Y.to_numpy()"
   ]
  },
  {
   "cell_type": "markdown",
   "id": "7278349c",
   "metadata": {},
   "source": [
    "Structure Of Neural Network\n",
    "11->16->1"
   ]
  },
  {
   "cell_type": "code",
   "execution_count": 49,
   "id": "07e667a2",
   "metadata": {
    "scrolled": true
   },
   "outputs": [],
   "source": [
    "#Activation Function\n",
    "def sigmoid (a):\n",
    "    return 1/(1 + np.exp(-a))\n",
    "\n",
    "def step(x):\n",
    "    if (x >= 0.5):\n",
    "        return 1  \n",
    "    else:\n",
    "        return 0\n",
    "\n",
    "#Forward Propagation\n",
    "def forward(weights):\n",
    "    w1 = weights[:176].reshape(11,16)\n",
    "    w2 = weights[176:192].reshape(16,1)\n",
    "    b1 = weights[192:208].reshape(1,16)\n",
    "    b2 = weights[208].reshape(1,1)\n",
    "    \n",
    "    hidden1 = sigmoid(np.dot(x,w1)+b1)\n",
    "    output = sigmoid(np.dot(hidden1,w2)+b2)\n",
    "    \n",
    "    pred = np.vectorize(step)(output)\n",
    "    return pred\n",
    "   \n",
    "#fitness/accuracy function\n",
    "def fitness(weights):\n",
    "    pred = forward(weights)\n",
    "    acc = accuracy_score(y,pred)\n",
    "    return acc*100"
   ]
  },
  {
   "cell_type": "code",
   "execution_count": 70,
   "id": "92407e05",
   "metadata": {},
   "outputs": [],
   "source": [
    "#creating population\n",
    "def populator(n):\n",
    "    population = []\n",
    "    for i in range(n):\n",
    "        parameters = np.random.randn(209)\n",
    "        population.append(parameters)\n",
    "    return population\n",
    "\n",
    "#Crossover \n",
    "def crossover(parent1,parent2):\n",
    "    children = []\n",
    "    crossover_point = np.random.randint(low=0, high=209)\n",
    "    \n",
    "    children.append(np.concatenate((parent1[:crossover_point],parent2[crossover_point:]),axis=0))\n",
    "    children.append(np.concatenate((parent2[:crossover_point],parent1[crossover_point:]),axis=0))\n",
    "    \n",
    "    return children\n",
    "\n",
    "def mutator(gene):\n",
    "    mutated = gene.copy()\n",
    "    mutating_val = 0.6\n",
    "    \n",
    "    for i in range(20):\n",
    "        l = random.randint(0,1)\n",
    "        mutation_point = np.random.randint(low=0, high=209)\n",
    "        \n",
    "        if l == 0:\n",
    "            mutated[mutation_point] += mutating_val\n",
    "        else:\n",
    "            mutated[mutation_point] -= mutating_val\n",
    "    \n",
    "    return mutated\n",
    "\n",
    "#Implementing culutural algorithm\n",
    "def belief_space(population):\n",
    "    ranking = sorted(population, key=lambda rank: fitness(rank), reverse=True)\n",
    "    elite = ranking[:4]\n",
    "    return elite\n",
    "    \n",
    "def influence(population):\n",
    "    ranking = sorted(population, key=lambda rank: fitness(rank), reverse=True)\n",
    "    return crossover(ranking[0],ranking[1])\n",
    "    \n",
    "def new_populator(population):\n",
    "    ranking = sorted(population, key=lambda rank: fitness(rank), reverse=True)\n",
    "    elite = belief_space(population)\n",
    "    new_pop= []\n",
    "    #Adding the best 4 genes to next population\n",
    "    new_pop.extend(elite)\n",
    "    \n",
    "    #Adding children of the best 2 genes(influence)\n",
    "    new_pop.extend(influence(population))\n",
    "    \n",
    "    #Adding children of 2 random genes\n",
    "    parent1, parent2 = random.sample(ranking[4:],2)\n",
    "    new_pop.extend(crossover(parent1, parent2))\n",
    "    \n",
    "    #Mutating 2 random genes\n",
    "    gene1,gene2 = random.sample(ranking[4:],2)\n",
    "    new_pop.append(mutator(gene1))\n",
    "    new_pop.append(mutator(gene2))\n",
    "    \n",
    "    return new_pop"
   ]
  },
  {
   "cell_type": "code",
   "execution_count": 83,
   "id": "b431a579",
   "metadata": {},
   "outputs": [
    {
     "name": "stdout",
     "output_type": "stream",
     "text": [
      "Final accuracy is 87.78%\n"
     ]
    }
   ],
   "source": [
    "population = populator(10)\n",
    "count = 0 \n",
    "\n",
    "while True:\n",
    "    if fitness(best) > 98 or count == 50:\n",
    "        break\n",
    "    else:\n",
    "        population = new_populator(population)\n",
    "        ranking = sorted(population, key=lambda rank: fitness(rank), reverse=True)\n",
    "        best = ranking[9]\n",
    "        count +=1 \n",
    "\n",
    "print('Final accuracy is '+ str(fitness(best)) + '%')"
   ]
  },
  {
   "cell_type": "code",
   "execution_count": null,
   "id": "a497c8dc",
   "metadata": {},
   "outputs": [],
   "source": []
  }
 ],
 "metadata": {
  "kernelspec": {
   "display_name": "Python 3 (ipykernel)",
   "language": "python",
   "name": "python3"
  },
  "language_info": {
   "codemirror_mode": {
    "name": "ipython",
    "version": 3
   },
   "file_extension": ".py",
   "mimetype": "text/x-python",
   "name": "python",
   "nbconvert_exporter": "python",
   "pygments_lexer": "ipython3",
   "version": "3.9.12"
  }
 },
 "nbformat": 4,
 "nbformat_minor": 5
}
