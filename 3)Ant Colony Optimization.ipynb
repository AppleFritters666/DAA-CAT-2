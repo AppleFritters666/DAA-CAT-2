{
 "cells": [
  {
   "cell_type": "code",
   "execution_count": 1,
   "id": "71917f89",
   "metadata": {},
   "outputs": [],
   "source": [
    "import numpy as np\n",
    "import pandas as pd \n",
    "from sklearn.metrics import accuracy_score\n",
    "import warnings\n",
    "import random\n",
    "\n",
    "warnings.filterwarnings(\"ignore\")"
   ]
  },
  {
   "cell_type": "code",
   "execution_count": 2,
   "id": "33270fa8",
   "metadata": {},
   "outputs": [],
   "source": [
    "data = pd.read_csv(r\"C:\\Users\\Lenovo\\Desktop\\Machine Learning Lab\\Bank_Personal_Loan_Modelling.csv\")\n",
    "data.drop(['ID','ZIP Code'],axis=1,inplace=True)\n",
    "X = data.drop(['Personal Loan'],axis=1)\n",
    "Y = data['Personal Loan']\n",
    "global x \n",
    "x = X.to_numpy()\n",
    "global y \n",
    "y = Y.to_numpy()"
   ]
  },
  {
   "cell_type": "code",
   "execution_count": 3,
   "id": "a16062b1",
   "metadata": {},
   "outputs": [],
   "source": [
    "#Activation Function\n",
    "def sigmoid (a):\n",
    "    return 1/(1 + np.exp(-a))\n",
    "\n",
    "def step(x):\n",
    "    if (x >= 0.5):\n",
    "        return 1  \n",
    "    else:\n",
    "        return 0\n",
    "\n",
    "#Forward Propagation\n",
    "def forward(weights):\n",
    "    w1 = weights[:176].reshape(11,16)\n",
    "    w2 = weights[176:192].reshape(16,1)\n",
    "    b1 = weights[192:208].reshape(1,16)\n",
    "    b2 = weights[208].reshape(1,1)\n",
    "    \n",
    "    hidden1 = sigmoid(np.dot(x,w1)+b1)\n",
    "    output = sigmoid(np.dot(hidden1,w2)+b2)\n",
    "    \n",
    "    pred = np.vectorize(step)(output)\n",
    "    return pred\n",
    "   \n",
    "#fitness/accuracy function\n",
    "def fitness(weights):\n",
    "    pred = forward(weights)\n",
    "    acc = accuracy_score(y,pred)\n",
    "    return acc*100"
   ]
  },
  {
   "cell_type": "code",
   "execution_count": 4,
   "id": "736da4c0",
   "metadata": {},
   "outputs": [],
   "source": [
    "def new_pheromones(pheromones):\n",
    "    accuracy = 0 \n",
    "    index = 0\n",
    "    for i in range(len(population)):\n",
    "        if fitness(population[i]) > accuracy:\n",
    "            accuracy = fitness(population[i])\n",
    "            index = i\n",
    "    return population[i],accuracy,index\n",
    "\n",
    "def \n",
    "\n",
    "\n",
    "\n",
    "def ACO(population,generations,decayrate):\n",
    "    #initializing pheromones\n",
    "    pheromone = np.ones((12, 6))\n",
    "     \n",
    "    personal_best = population\n",
    "    \n",
    "    best,accuracy,index = global_best(population)\n",
    "    \n",
    "    velocity = np.array([[0.0 for j in range(209)] for i in range(15)])\n",
    "    \n",
    "    for i in range(generations):\n",
    "        for j in range(len(population)):\n",
    "            velocity[j] = new_velocity(population[j],velocity[j], personal_best[j], best)\n",
    "            population[j] = new_position(population[j], velocity[j])\n",
    "            \n",
    "    best,accuracy,index = global_best(population)\n",
    "    "
   ]
  },
  {
   "cell_type": "code",
   "execution_count": null,
   "id": "f6144c6b",
   "metadata": {},
   "outputs": [],
   "source": []
  }
 ],
 "metadata": {
  "kernelspec": {
   "display_name": "Python 3 (ipykernel)",
   "language": "python",
   "name": "python3"
  },
  "language_info": {
   "codemirror_mode": {
    "name": "ipython",
    "version": 3
   },
   "file_extension": ".py",
   "mimetype": "text/x-python",
   "name": "python",
   "nbconvert_exporter": "python",
   "pygments_lexer": "ipython3",
   "version": "3.9.12"
  }
 },
 "nbformat": 4,
 "nbformat_minor": 5
}
